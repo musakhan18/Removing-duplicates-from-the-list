{
 "cells": [
  {
   "cell_type": "code",
   "execution_count": 12,
   "metadata": {},
   "outputs": [
    {
     "name": "stdout",
     "output_type": "stream",
     "text": [
      "Enter number of elements: 5\n",
      "foit\n",
      "foit\n",
      "taha\n",
      "taha\n",
      "musa\n",
      "List before removing duplicates\n",
      "--------------------------------\n",
      "['foit', 'foit', 'taha', 'taha', 'musa']\n",
      "List after removing duplicates\n",
      "-------------------------------\n",
      "['foit', 'taha', 'musa']\n",
      "List after sorting\n",
      "-------------------\n",
      "['foit', 'musa', 'taha']\n"
     ]
    }
   ],
   "source": [
    "lis1 = []  \n",
    "n = int(input(\"Enter number of elements: \")) \n",
    "\n",
    "for i in range(0, n):\n",
    "    str = (input())\n",
    "    lis1.append(str) \n",
    "print('List before removing duplicates')\n",
    "print('--------------------------------')\n",
    "print(lis1)\n",
    "lis2=[]\n",
    "flag=0\n",
    "for i in range(0, n):\n",
    "    str1=lis1[i]\n",
    "    for j in range(i+1,n):\n",
    "        if str1==lis1[j]:\n",
    "            flag=1\n",
    "            break\n",
    "        else:\n",
    "            flag=0\n",
    "    if flag  ==0:\n",
    "        lis2.append(str1)\n",
    "print(\"List after removing duplicates\")\n",
    "print('-------------------------------')\n",
    "print(lis2)\n",
    "lis2.sort()\n",
    "print(\"List after sorting\")\n",
    "print('-------------------')\n",
    "print(lis2)"
   ]
  },
  {
   "cell_type": "code",
   "execution_count": null,
   "metadata": {},
   "outputs": [],
   "source": []
  }
 ],
 "metadata": {
  "kernelspec": {
   "display_name": "Python 3",
   "language": "python",
   "name": "python3"
  },
  "language_info": {
   "codemirror_mode": {
    "name": "ipython",
    "version": 3
   },
   "file_extension": ".py",
   "mimetype": "text/x-python",
   "name": "python",
   "nbconvert_exporter": "python",
   "pygments_lexer": "ipython3",
   "version": "3.8.5"
  }
 },
 "nbformat": 4,
 "nbformat_minor": 4
}
